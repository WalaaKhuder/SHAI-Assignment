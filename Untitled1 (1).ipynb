{
 "cells": [
  {
   "cell_type": "code",
   "execution_count": null,
   "id": "6dc09dfd-c497-4ec3-bd04-201d5fca5f6a",
   "metadata": {},
   "outputs": [],
   "source": [
    "import pandas as pd\n",
    "import numpy as np\n",
    "import matplotlib.pyplot as plt\n",
    "import seaborn as sns\n",
    "\n",
    "df = pd.read_csv(\"/content/Salaries.csv\")\n",
    "\n",
    "\n",
    "print(\"columns = \", df.shape[1])\n",
    "print(\"rows = \", df.shape[0])\n",
    "print(\"df.dtypes = \", df.dtypes)\n",
    "print(\"df.isnull().sum() = \", df.isnull().sum())\n",
    "\n",
    "df.fillna(False)\n",
    "print(df.fillna(False))\n",
    "\n",
    "print(df.describe())\n",
    "print(\"mode = \", df.mode().iloc[0])\n",
    "print(\"range = \", np.arange(df[\"TotalPayBenefits\"].min(), df[\"TotalPayBenefits\"].max()))\n",
    "\n",
    "\n",
    "sns.histplot(df[\"TotalPayBenefits\"], bins=20, kde=True, color=\"skyblue\")\n",
    "plt.xlabel(\"Salary\")\n",
    "plt.ylabel(\"Number of Employees\")\n",
    "plt.title(\"Salary distribution\")\n",
    "plt.show()\n",
    "\n",
    "department_counts = df[\"JobTitle\"].value_counts()\n",
    "colors = plt.cm.Paired(range(len(department_counts)))\n",
    "\n",
    "plt.figure(figsize=(8, 8))\n",
    "plt.pie(department_counts, labels=department_counts.index, autopct=\"%1.1f%%\", colors=colors, startangle=140)\n",
    "plt.title(\"Percentage of employees in different departments\")\n",
    "plt.show()\n",
    "\n",
    "\n",
    "summary_stats = df.groupby(\"JobTitle\")[\"TotalPayBenefits\"].describe()\n",
    "print(summary_stats)\n",
    "\n",
    "\n",
    "mean_salary_comparison = df.groupby(\"JobTitle\")[\"TotalPayBenefits\"].mean()\n",
    "print(\"\\nCompare average salaries :\")\n",
    "print(mean_salary_comparison)\n",
    "\n",
    "\n",
    "plt.figure(figsize=(8, 6))\n",
    "sns.scatterplot(x=\"TotalPayBenefits\", y=\"Id\", data=df, color=\"blue\")\n",
    "plt.title(\"Scatter plot of the relationship between TotalPayBenefits and Id\")\n",
    "plt.xlabel(\"TotalPayBenefits\")\n",
    "plt.ylabel(\"Id\")\n",
    "plt.show()\n",
    "\n",
    "report = \"For data information, the data was successfully read, identifying data basics such as number of columns, rows and data types and we also observed no missing data in the data, which enhances the quality of input. For salary statistics, basic salary statistics were calculated, identifying important information such as the mean, median and mode and also a clear view of the salary range and the use of standard deviation in understanding the distribution of the data. To deal with missing data, the appropriate method was used to deal with missing data(The Function is fillna()), where missing values are filled with a value(False). For graphs, a bar chart was created to illustrate salary distribution, reflecting the variation between salary levels, and a pie chart reflects the distribution of employees in departments, providing a quick overview of organizational balance. For data aggregation and comparison, the data was grouped by department, and we had a breakdown of average salaries in each department. For the correlation analysis, a small correlation was identified between salary and another column, suggesting an effect that may be significant. In the end, the general results indicate that the analysis indicates a large diversity in salaries within the organization, and that there are differences between departments in salary levels, and the simple correlation indicates the importance of the other column in determining salary levels\"\n",
    "\n",
    "print(report)"
   ]
  }
 ],
 "metadata": {
  "kernelspec": {
   "display_name": "Python 3 (ipykernel)",
   "language": "python",
   "name": "python3"
  },
  "language_info": {
   "codemirror_mode": {
    "name": "ipython",
    "version": 3
   },
   "file_extension": ".py",
   "mimetype": "text/x-python",
   "name": "python",
   "nbconvert_exporter": "python",
   "pygments_lexer": "ipython3",
   "version": "3.9.6"
  }
 },
 "nbformat": 4,
 "nbformat_minor": 5
}
